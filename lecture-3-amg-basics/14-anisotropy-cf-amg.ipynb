{
 "cells": [
  {
   "cell_type": "markdown",
   "metadata": {
    "colab_type": "text",
    "id": "view-in-github"
   },
   "source": [
    "<a href=\"https://colab.research.google.com/github/lukeolson/imperial-multigrid/blob/master/lecture-3-amg-basics/14-anisotropy-cf-amg.ipynb\" target=\"_parent\"><img src=\"https://colab.research.google.com/assets/colab-badge.svg\" alt=\"Open In Colab\"/></a>"
   ]
  },
  {
   "cell_type": "code",
   "execution_count": null,
   "metadata": {},
   "outputs": [],
   "source": [
    "# you may need to install pyamg\n",
    "!pip install pyamg"
   ]
  },
  {
   "cell_type": "code",
   "execution_count": 1,
   "metadata": {},
   "outputs": [],
   "source": [
    "import scipy as sp\n",
    "import numpy as np\n",
    "import scipy.sparse as sparse\n",
    "import scipy.sparse.linalg as sla\n",
    "import matplotlib.pyplot as plt\n",
    "plt.style.use('seaborn-talk')\n",
    "\n",
    "%matplotlib inline\n",
    "\n",
    "import pyamg"
   ]
  },
  {
   "cell_type": "markdown",
   "metadata": {},
   "source": [
    "###  Anisotropy\n",
    "\n",
    "For this example, let's try a fairly small grid.\n",
    "\n",
    "And test $\\varepsilon = 0.01$ with a rotation of $\\theta = \\frac{\\pi}{2}$ and $\\theta=\\frac{\\pi}{4}$."
   ]
  },
  {
   "cell_type": "code",
   "execution_count": 6,
   "metadata": {},
   "outputs": [
    {
     "name": "stdout",
     "output_type": "stream",
     "text": [
      "[[-0.2475 -0.505   0.2475]\n",
      " [-0.505   2.02   -0.505 ]\n",
      " [ 0.2475 -0.505  -0.2475]]\n"
     ]
    }
   ],
   "source": [
    "#theta = np.pi / 2\n",
    "theta = np.pi / 4\n",
    "epsilon = 0.01\n",
    "nx = 20\n",
    "ny = nx\n",
    "stencil = pyamg.gallery.diffusion.diffusion_stencil_2d(type='FD', epsilon=epsilon, theta=theta)\n",
    "print(stencil)\n",
    "A = pyamg.gallery.stencil_grid(stencil, (nx, ny), format='csr')"
   ]
  },
  {
   "cell_type": "markdown",
   "metadata": {},
   "source": [
    "###  Build a CF hierarchy\n",
    "\n",
    "Use `ruge_stuben_solver` to build a CF hierarchy. With a few notes:\n",
    "\n",
    "- `keep` will simply retain all of the \"extra\" operators used to build the hierarch.  For example a list of the C/F nodes on each level.\n",
    "- `strength` sets the strength parameters.  Here `classical` is normally used.  The `norm` equal to `min` (rather than `abs`) avoids using the absolute value in the strength test so that large positive entries are treated as weak connections."
   ]
  },
  {
   "cell_type": "code",
   "execution_count": 7,
   "metadata": {},
   "outputs": [
    {
     "name": "stdout",
     "output_type": "stream",
     "text": [
      "multilevel_solver\n",
      "Number of Levels:     5\n",
      "Operator Complexity:  1.914\n",
      "Grid Complexity:      1.548\n",
      "Coarse Solver:        'pinv2'\n",
      "  level   unknowns     nonzeros\n",
      "    0          400         3364 [52.24%]\n",
      "    1          133         1689 [26.23%]\n",
      "    2           66         1226 [19.04%]\n",
      "    3           16          146 [ 2.27%]\n",
      "    4            4           14 [ 0.22%]\n",
      "\n"
     ]
    }
   ],
   "source": [
    "ml = pyamg.ruge_stuben_solver(A, keep=True,\n",
    "                              strength=('classical',\n",
    "                                        {'theta': 0.25,\n",
    "                                         'norm': 'min'}))\n",
    "print(ml)"
   ]
  },
  {
   "cell_type": "markdown",
   "metadata": {},
   "source": [
    "### View the splitting\n",
    "\n",
    "We can vew the C/F splitting by inspecting the first `level`."
   ]
  },
  {
   "cell_type": "code",
   "execution_count": 8,
   "metadata": {},
   "outputs": [
    {
     "data": {
      "text/plain": [
       "<matplotlib.legend.Legend at 0x114a1ed10>"
      ]
     },
     "execution_count": 8,
     "metadata": {},
     "output_type": "execute_result"
    },
    {
     "data": {
      "image/png": "[encoded data removed]",
      "text/plain": [
       "<Figure size 432x288 with 1 Axes>"
      ]
     },
     "metadata": {},
     "output_type": "display_data"
    }
   ],
   "source": [
    "X, Y = np.meshgrid(np.linspace(0,1,nx), np.linspace(0,1,ny))\n",
    "X = X.ravel()\n",
    "Y = Y.ravel()\n",
    "\n",
    "# The CF splitting, 1 == C-node and 0 == F-node\n",
    "splitting = ml.levels[0].splitting\n",
    "C_nodes = splitting == 1\n",
    "F_nodes = splitting == 0\n",
    "\n",
    "plt.scatter(X[C_nodes], Y[C_nodes],\n",
    "            marker='s',\n",
    "            s=30.0, label='C pts')\n",
    "plt.scatter(X[F_nodes], Y[F_nodes],\n",
    "            marker='s',\n",
    "            s=30.0, label='F pts')\n",
    "plt.legend()"
   ]
  },
  {
   "cell_type": "markdown",
   "metadata": {},
   "source": [
    "### The `ml` hierarchy\n",
    "\n",
    "Notice a few things about the hierarchy..."
   ]
  },
  {
   "cell_type": "markdown",
   "metadata": {},
   "source": [
    "Each level has a number of attributes/functions:\n",
    "- `A` is the operator on this level\n",
    "- `P` interpolates **to** this level\n",
    "- `R` restricts **from** this level.  Simply `R=P.T` in this case.\n",
    "- `C` is a sparse matrix of strong connections\n",
    "- `splitting` holds C/F information\n",
    "- `presmoother` and `postsmoother` point to the relaxation routine"
   ]
  },
  {
   "cell_type": "code",
   "execution_count": 9,
   "metadata": {},
   "outputs": [
    {
     "data": {
      "text/plain": [
       "['A',\n",
       " 'C',\n",
       " 'P',\n",
       " 'R',\n",
       " '__class__',\n",
       " '__delattr__',\n",
       " '__dict__',\n",
       " '__dir__',\n",
       " '__doc__',\n",
       " '__eq__',\n",
       " '__format__',\n",
       " '__ge__',\n",
       " '__getattribute__',\n",
       " '__gt__',\n",
       " '__hash__',\n",
       " '__init__',\n",
       " '__init_subclass__',\n",
       " '__le__',\n",
       " '__lt__',\n",
       " '__module__',\n",
       " '__ne__',\n",
       " '__new__',\n",
       " '__reduce__',\n",
       " '__reduce_ex__',\n",
       " '__repr__',\n",
       " '__setattr__',\n",
       " '__sizeof__',\n",
       " '__str__',\n",
       " '__subclasshook__',\n",
       " '__weakref__',\n",
       " 'postsmoother',\n",
       " 'presmoother',\n",
       " 'splitting']"
      ]
     },
     "execution_count": 9,
     "metadata": {},
     "output_type": "execute_result"
    }
   ],
   "source": [
    "dir(ml.levels[0])"
   ]
  },
  {
   "cell_type": "markdown",
   "metadata": {},
   "source": [
    "- `Operator complexity` is the total sum of the `nnz` in all operators `A` compared to the fine level"
   ]
  },
  {
   "cell_type": "code",
   "execution_count": 10,
   "metadata": {},
   "outputs": [
    {
     "name": "stdout",
     "output_type": "stream",
     "text": [
      "[3364, 1689, 1226, 146, 14]\n",
      "1.914090368608799\n"
     ]
    }
   ],
   "source": [
    "Asizes = [ml.levels[i].A.nnz for i in range(len(ml.levels))]\n",
    "print(Asizes)\n",
    "print(np.sum(Asizes)/Asizes[0])"
   ]
  },
  {
   "cell_type": "markdown",
   "metadata": {},
   "source": [
    "- `Grid Complexity` is the total sum of the unknowns per level, compared to the fine level"
   ]
  },
  {
   "cell_type": "code",
   "execution_count": 11,
   "metadata": {},
   "outputs": [
    {
     "name": "stdout",
     "output_type": "stream",
     "text": [
      "[400, 133, 66, 16, 4]\n",
      "1.5475\n"
     ]
    }
   ],
   "source": [
    "Asizes = [ml.levels[i].A.shape[0] for i in range(len(ml.levels))]\n",
    "print(Asizes)\n",
    "print(np.sum(Asizes)/Asizes[0])"
   ]
  },
  {
   "cell_type": "markdown",
   "metadata": {},
   "source": [
    "### Set up a problem and solve\n",
    "\n",
    "Now, set $f=0$ and the initial $u$ to random and solve.\n",
    "\n",
    "Note: you can set `accel='cg'` to use AMG as a preconditioner"
   ]
  },
  {
   "cell_type": "code",
   "execution_count": 12,
   "metadata": {},
   "outputs": [],
   "source": [
    "f = np.zeros(A.shape[0])\n",
    "u0 = np.random.randn(A.shape[0])\n",
    "res = []\n",
    "u = ml.solve(b=f, x0=u0, residuals=res)"
   ]
  },
  {
   "cell_type": "code",
   "execution_count": 13,
   "metadata": {},
   "outputs": [
    {
     "data": {
      "text/plain": [
       "array([0.01719434, 0.07204551, 0.12220994, 0.17406996, 0.20569354,\n",
       "       0.22239996, 0.23321024, 0.24117889])"
      ]
     },
     "execution_count": 13,
     "metadata": {},
     "output_type": "execute_result"
    }
   ],
   "source": [
    "res = np.array(res)\n",
    "res[1:] / res[:-1]"
   ]
  },
  {
   "cell_type": "markdown",
   "metadata": {},
   "source": [
    "### Make a bigger problem!"
   ]
  },
  {
   "cell_type": "code",
   "execution_count": 14,
   "metadata": {},
   "outputs": [
    {
     "name": "stdout",
     "output_type": "stream",
     "text": [
      "[[-0.2475 -0.505   0.2475]\n",
      " [-0.505   2.02   -0.505 ]\n",
      " [ 0.2475 -0.505  -0.2475]]\n"
     ]
    }
   ],
   "source": [
    "theta = np.pi / 4\n",
    "epsilon = 0.01\n",
    "nx = 1000\n",
    "ny = nx\n",
    "stencil = pyamg.gallery.diffusion.diffusion_stencil_2d(type='FD', epsilon=epsilon, theta=theta)\n",
    "print(stencil)\n",
    "A = pyamg.gallery.stencil_grid(stencil, (nx, ny), format='csr')"
   ]
  },
  {
   "cell_type": "code",
   "execution_count": 15,
   "metadata": {},
   "outputs": [
    {
     "name": "stdout",
     "output_type": "stream",
     "text": [
      "multilevel_solver\n",
      "Number of Levels:     10\n",
      "Operator Complexity:  2.260\n",
      "Grid Complexity:      1.569\n",
      "Coarse Solver:        'pinv2'\n",
      "  level   unknowns     nonzeros\n",
      "    0      1000000      8988004 [44.24%]\n",
      "    1       333333      4984009 [24.53%]\n",
      "    2       166666      4468716 [22.00%]\n",
      "    3        41666       863038 [ 4.25%]\n",
      "    4        20665       821995 [ 4.05%]\n",
      "    5         5165       151083 [ 0.74%]\n",
      "    6         1302        28590 [ 0.14%]\n",
      "    7          346         6758 [ 0.03%]\n",
      "    8          156         4178 [ 0.02%]\n",
      "    9           32          294 [ 0.00%]\n",
      "\n"
     ]
    }
   ],
   "source": [
    "ml = pyamg.ruge_stuben_solver(A, keep=True,\n",
    "                              strength=('classical',\n",
    "                                        {'theta': 0.25,\n",
    "                                         'norm': 'min'}))\n",
    "print(ml)"
   ]
  },
  {
   "cell_type": "code",
   "execution_count": 19,
   "metadata": {},
   "outputs": [],
   "source": [
    "f = np.zeros(A.shape[0])\n",
    "u0 = np.random.randn(A.shape[0])\n",
    "res = []\n",
    "u = ml.solve(b=f, x0=u0, residuals=res, accel='cg')"
   ]
  },
  {
   "cell_type": "code",
   "execution_count": 20,
   "metadata": {},
   "outputs": [
    {
     "data": {
      "text/plain": [
       "array([0.02440939, 0.08483446, 0.13912844, 0.16838448, 0.16485517])"
      ]
     },
     "execution_count": 20,
     "metadata": {},
     "output_type": "execute_result"
    }
   ],
   "source": [
    "res = np.array(res)\n",
    "res[1:] / res[:-1]"
   ]
  },
  {
   "cell_type": "code",
   "execution_count": 21,
   "metadata": {},
   "outputs": [
    {
     "data": {
      "text/plain": [
       "[<matplotlib.lines.Line2D at 0x11dbc8e90>]"
      ]
     },
     "execution_count": 21,
     "metadata": {},
     "output_type": "execute_result"
    },
    {
     "data": {
      "image/png": "[encoded data removed]",
      "text/plain": [
       "<Figure size 432x288 with 1 Axes>"
      ]
     },
     "metadata": {},
     "output_type": "display_data"
    }
   ],
   "source": [
    "plt.semilogy(res)"
   ]
  },
  {
   "cell_type": "code",
   "execution_count": null,
   "metadata": {},
   "outputs": [],
   "source": []
  }
 ],
 "metadata": {
  "kernelspec": {
   "display_name": "Python 3",
   "language": "python",
   "name": "python3"
  },
  "language_info": {
   "codemirror_mode": {
    "name": "ipython",
    "version": 3
   },
   "file_extension": ".py",
   "mimetype": "text/x-python",
   "name": "python",
   "nbconvert_exporter": "python",
   "pygments_lexer": "ipython3",
   "version": "3.7.7"
  }
 },
 "nbformat": 4,
 "nbformat_minor": 4
}
