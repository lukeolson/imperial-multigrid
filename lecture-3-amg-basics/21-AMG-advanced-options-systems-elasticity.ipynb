{
 "cells": [
  {
   "cell_type": "markdown",
   "metadata": {
    "colab_type": "text",
    "id": "view-in-github"
   },
   "source": [
    "<a href=\"https://colab.research.google.com/github/lukeolson/imperial-multigrid/blob/master/lecture-3-amg-basics/21-AMG-advanced-options-systems-elasticity.ipynb\" target=\"_parent\"><img src=\"https://colab.research.google.com/assets/colab-badge.svg\" alt=\"Open In Colab\"/></a>"
   ]
  },
  {
   "cell_type": "code",
   "execution_count": null,
   "metadata": {},
   "outputs": [],
   "source": [
    "# you may need to install pyamg\n",
    "!pip install pyamg"
   ]
  },
  {
   "cell_type": "code",
   "execution_count": 1,
   "metadata": {},
   "outputs": [],
   "source": [
    "import numpy as np\n",
    "import scipy.io as sio\n",
    "import pyamg\n",
    "import scipy.sparse.linalg as sla\n",
    "\n",
    "import matplotlib.pyplot as plt\n",
    "from matplotlib import collections\n",
    "from matplotlib import tri\n",
    "%matplotlib inline\n",
    "\n",
    "import warnings\n",
    "warnings.simplefilter(action='ignore', category=FutureWarning)"
   ]
  },
  {
   "cell_type": "markdown",
   "metadata": {},
   "source": [
    "# Elasticity"
   ]
  },
  {
   "cell_type": "code",
   "execution_count": 2,
   "metadata": {},
   "outputs": [],
   "source": [
    "A, B = pyamg.gallery.linear_elasticity((10,10))"
   ]
  },
  {
   "cell_type": "code",
   "execution_count": 3,
   "metadata": {},
   "outputs": [
    {
     "data": {
      "text/plain": [
       "array([[ 1. ,  0. ,  4.5],\n",
       "       [ 0. ,  1. , -4.5],\n",
       "       [ 1. ,  0. ,  4.5],\n",
       "       [ 0. ,  1. , -3.5],\n",
       "       [ 1. ,  0. ,  4.5],\n",
       "       [ 0. ,  1. , -2.5],\n",
       "       [ 1. ,  0. ,  4.5],\n",
       "       [ 0. ,  1. , -1.5],\n",
       "       [ 1. ,  0. ,  4.5],\n",
       "       [ 0. ,  1. , -0.5],\n",
       "       [ 1. ,  0. ,  4.5],\n",
       "       [ 0. ,  1. ,  0.5],\n",
       "       [ 1. ,  0. ,  4.5],\n",
       "       [ 0. ,  1. ,  1.5],\n",
       "       [ 1. ,  0. ,  4.5],\n",
       "       [ 0. ,  1. ,  2.5],\n",
       "       [ 1. ,  0. ,  4.5],\n",
       "       [ 0. ,  1. ,  3.5],\n",
       "       [ 1. ,  0. ,  4.5],\n",
       "       [ 0. ,  1. ,  4.5],\n",
       "       [ 1. ,  0. ,  3.5],\n",
       "       [ 0. ,  1. , -4.5],\n",
       "       [ 1. ,  0. ,  3.5],\n",
       "       [ 0. ,  1. , -3.5],\n",
       "       [ 1. ,  0. ,  3.5],\n",
       "       [ 0. ,  1. , -2.5],\n",
       "       [ 1. ,  0. ,  3.5],\n",
       "       [ 0. ,  1. , -1.5],\n",
       "       [ 1. ,  0. ,  3.5],\n",
       "       [ 0. ,  1. , -0.5],\n",
       "       [ 1. ,  0. ,  3.5],\n",
       "       [ 0. ,  1. ,  0.5],\n",
       "       [ 1. ,  0. ,  3.5],\n",
       "       [ 0. ,  1. ,  1.5],\n",
       "       [ 1. ,  0. ,  3.5],\n",
       "       [ 0. ,  1. ,  2.5],\n",
       "       [ 1. ,  0. ,  3.5],\n",
       "       [ 0. ,  1. ,  3.5],\n",
       "       [ 1. ,  0. ,  3.5],\n",
       "       [ 0. ,  1. ,  4.5],\n",
       "       [ 1. ,  0. ,  2.5],\n",
       "       [ 0. ,  1. , -4.5],\n",
       "       [ 1. ,  0. ,  2.5],\n",
       "       [ 0. ,  1. , -3.5],\n",
       "       [ 1. ,  0. ,  2.5],\n",
       "       [ 0. ,  1. , -2.5],\n",
       "       [ 1. ,  0. ,  2.5],\n",
       "       [ 0. ,  1. , -1.5],\n",
       "       [ 1. ,  0. ,  2.5],\n",
       "       [ 0. ,  1. , -0.5],\n",
       "       [ 1. ,  0. ,  2.5],\n",
       "       [ 0. ,  1. ,  0.5],\n",
       "       [ 1. ,  0. ,  2.5],\n",
       "       [ 0. ,  1. ,  1.5],\n",
       "       [ 1. ,  0. ,  2.5],\n",
       "       [ 0. ,  1. ,  2.5],\n",
       "       [ 1. ,  0. ,  2.5],\n",
       "       [ 0. ,  1. ,  3.5],\n",
       "       [ 1. ,  0. ,  2.5],\n",
       "       [ 0. ,  1. ,  4.5],\n",
       "       [ 1. ,  0. ,  1.5],\n",
       "       [ 0. ,  1. , -4.5],\n",
       "       [ 1. ,  0. ,  1.5],\n",
       "       [ 0. ,  1. , -3.5],\n",
       "       [ 1. ,  0. ,  1.5],\n",
       "       [ 0. ,  1. , -2.5],\n",
       "       [ 1. ,  0. ,  1.5],\n",
       "       [ 0. ,  1. , -1.5],\n",
       "       [ 1. ,  0. ,  1.5],\n",
       "       [ 0. ,  1. , -0.5],\n",
       "       [ 1. ,  0. ,  1.5],\n",
       "       [ 0. ,  1. ,  0.5],\n",
       "       [ 1. ,  0. ,  1.5],\n",
       "       [ 0. ,  1. ,  1.5],\n",
       "       [ 1. ,  0. ,  1.5],\n",
       "       [ 0. ,  1. ,  2.5],\n",
       "       [ 1. ,  0. ,  1.5],\n",
       "       [ 0. ,  1. ,  3.5],\n",
       "       [ 1. ,  0. ,  1.5],\n",
       "       [ 0. ,  1. ,  4.5],\n",
       "       [ 1. ,  0. ,  0.5],\n",
       "       [ 0. ,  1. , -4.5],\n",
       "       [ 1. ,  0. ,  0.5],\n",
       "       [ 0. ,  1. , -3.5],\n",
       "       [ 1. ,  0. ,  0.5],\n",
       "       [ 0. ,  1. , -2.5],\n",
       "       [ 1. ,  0. ,  0.5],\n",
       "       [ 0. ,  1. , -1.5],\n",
       "       [ 1. ,  0. ,  0.5],\n",
       "       [ 0. ,  1. , -0.5],\n",
       "       [ 1. ,  0. ,  0.5],\n",
       "       [ 0. ,  1. ,  0.5],\n",
       "       [ 1. ,  0. ,  0.5],\n",
       "       [ 0. ,  1. ,  1.5],\n",
       "       [ 1. ,  0. ,  0.5],\n",
       "       [ 0. ,  1. ,  2.5],\n",
       "       [ 1. ,  0. ,  0.5],\n",
       "       [ 0. ,  1. ,  3.5],\n",
       "       [ 1. ,  0. ,  0.5],\n",
       "       [ 0. ,  1. ,  4.5],\n",
       "       [ 1. ,  0. , -0.5],\n",
       "       [ 0. ,  1. , -4.5],\n",
       "       [ 1. ,  0. , -0.5],\n",
       "       [ 0. ,  1. , -3.5],\n",
       "       [ 1. ,  0. , -0.5],\n",
       "       [ 0. ,  1. , -2.5],\n",
       "       [ 1. ,  0. , -0.5],\n",
       "       [ 0. ,  1. , -1.5],\n",
       "       [ 1. ,  0. , -0.5],\n",
       "       [ 0. ,  1. , -0.5],\n",
       "       [ 1. ,  0. , -0.5],\n",
       "       [ 0. ,  1. ,  0.5],\n",
       "       [ 1. ,  0. , -0.5],\n",
       "       [ 0. ,  1. ,  1.5],\n",
       "       [ 1. ,  0. , -0.5],\n",
       "       [ 0. ,  1. ,  2.5],\n",
       "       [ 1. ,  0. , -0.5],\n",
       "       [ 0. ,  1. ,  3.5],\n",
       "       [ 1. ,  0. , -0.5],\n",
       "       [ 0. ,  1. ,  4.5],\n",
       "       [ 1. ,  0. , -1.5],\n",
       "       [ 0. ,  1. , -4.5],\n",
       "       [ 1. ,  0. , -1.5],\n",
       "       [ 0. ,  1. , -3.5],\n",
       "       [ 1. ,  0. , -1.5],\n",
       "       [ 0. ,  1. , -2.5],\n",
       "       [ 1. ,  0. , -1.5],\n",
       "       [ 0. ,  1. , -1.5],\n",
       "       [ 1. ,  0. , -1.5],\n",
       "       [ 0. ,  1. , -0.5],\n",
       "       [ 1. ,  0. , -1.5],\n",
       "       [ 0. ,  1. ,  0.5],\n",
       "       [ 1. ,  0. , -1.5],\n",
       "       [ 0. ,  1. ,  1.5],\n",
       "       [ 1. ,  0. , -1.5],\n",
       "       [ 0. ,  1. ,  2.5],\n",
       "       [ 1. ,  0. , -1.5],\n",
       "       [ 0. ,  1. ,  3.5],\n",
       "       [ 1. ,  0. , -1.5],\n",
       "       [ 0. ,  1. ,  4.5],\n",
       "       [ 1. ,  0. , -2.5],\n",
       "       [ 0. ,  1. , -4.5],\n",
       "       [ 1. ,  0. , -2.5],\n",
       "       [ 0. ,  1. , -3.5],\n",
       "       [ 1. ,  0. , -2.5],\n",
       "       [ 0. ,  1. , -2.5],\n",
       "       [ 1. ,  0. , -2.5],\n",
       "       [ 0. ,  1. , -1.5],\n",
       "       [ 1. ,  0. , -2.5],\n",
       "       [ 0. ,  1. , -0.5],\n",
       "       [ 1. ,  0. , -2.5],\n",
       "       [ 0. ,  1. ,  0.5],\n",
       "       [ 1. ,  0. , -2.5],\n",
       "       [ 0. ,  1. ,  1.5],\n",
       "       [ 1. ,  0. , -2.5],\n",
       "       [ 0. ,  1. ,  2.5],\n",
       "       [ 1. ,  0. , -2.5],\n",
       "       [ 0. ,  1. ,  3.5],\n",
       "       [ 1. ,  0. , -2.5],\n",
       "       [ 0. ,  1. ,  4.5],\n",
       "       [ 1. ,  0. , -3.5],\n",
       "       [ 0. ,  1. , -4.5],\n",
       "       [ 1. ,  0. , -3.5],\n",
       "       [ 0. ,  1. , -3.5],\n",
       "       [ 1. ,  0. , -3.5],\n",
       "       [ 0. ,  1. , -2.5],\n",
       "       [ 1. ,  0. , -3.5],\n",
       "       [ 0. ,  1. , -1.5],\n",
       "       [ 1. ,  0. , -3.5],\n",
       "       [ 0. ,  1. , -0.5],\n",
       "       [ 1. ,  0. , -3.5],\n",
       "       [ 0. ,  1. ,  0.5],\n",
       "       [ 1. ,  0. , -3.5],\n",
       "       [ 0. ,  1. ,  1.5],\n",
       "       [ 1. ,  0. , -3.5],\n",
       "       [ 0. ,  1. ,  2.5],\n",
       "       [ 1. ,  0. , -3.5],\n",
       "       [ 0. ,  1. ,  3.5],\n",
       "       [ 1. ,  0. , -3.5],\n",
       "       [ 0. ,  1. ,  4.5],\n",
       "       [ 1. ,  0. , -4.5],\n",
       "       [ 0. ,  1. , -4.5],\n",
       "       [ 1. ,  0. , -4.5],\n",
       "       [ 0. ,  1. , -3.5],\n",
       "       [ 1. ,  0. , -4.5],\n",
       "       [ 0. ,  1. , -2.5],\n",
       "       [ 1. ,  0. , -4.5],\n",
       "       [ 0. ,  1. , -1.5],\n",
       "       [ 1. ,  0. , -4.5],\n",
       "       [ 0. ,  1. , -0.5],\n",
       "       [ 1. ,  0. , -4.5],\n",
       "       [ 0. ,  1. ,  0.5],\n",
       "       [ 1. ,  0. , -4.5],\n",
       "       [ 0. ,  1. ,  1.5],\n",
       "       [ 1. ,  0. , -4.5],\n",
       "       [ 0. ,  1. ,  2.5],\n",
       "       [ 1. ,  0. , -4.5],\n",
       "       [ 0. ,  1. ,  3.5],\n",
       "       [ 1. ,  0. , -4.5],\n",
       "       [ 0. ,  1. ,  4.5]])"
      ]
     },
     "execution_count": 3,
     "metadata": {},
     "output_type": "execute_result"
    }
   ],
   "source": [
    "B"
   ]
  },
  {
   "cell_type": "code",
   "execution_count": 4,
   "metadata": {},
   "outputs": [
    {
     "data": {
      "text/plain": [
       "<200x200 sparse matrix of type '<class 'numpy.float64'>'\n",
       "\twith 3136 stored elements (blocksize = 2x2) in Block Sparse Row format>"
      ]
     },
     "execution_count": 4,
     "metadata": {},
     "output_type": "execute_result"
    }
   ],
   "source": [
    "A"
   ]
  },
  {
   "cell_type": "code",
   "execution_count": 5,
   "metadata": {},
   "outputs": [
    {
     "data": {
      "text/plain": [
       "<matplotlib.quiver.Quiver at 0x116097c50>"
      ]
     },
     "execution_count": 5,
     "metadata": {},
     "output_type": "execute_result"
    },
    {
     "data": {
      "image/png": "[encoded data removed]",
      "text/plain": [
       "<Figure size 576x576 with 1 Axes>"
      ]
     },
     "metadata": {},
     "output_type": "display_data"
    }
   ],
   "source": [
    "plt.figure(figsize=(8,8))\n",
    "x, y = np.meshgrid(np.linspace(0,1,10), np.linspace(0,1,10))\n",
    "plt.quiver(x, y, B[0::2,0], B[1::2,0], color='b')\n",
    "plt.quiver(x, y, B[0::2,1], B[1::2,1], color='r')\n",
    "plt.quiver(x, y, B[0::2,2], B[1::2,2], color='g')"
   ]
  },
  {
   "cell_type": "code",
   "execution_count": 6,
   "metadata": {},
   "outputs": [
    {
     "name": "stdout",
     "output_type": "stream",
     "text": [
      "multilevel_solver\n",
      "Number of Levels:     3\n",
      "Operator Complexity:  1.333\n",
      "Grid Complexity:      1.300\n",
      "Coarse Solver:        'pinv2'\n",
      "  level   unknowns     nonzeros\n",
      "    0          200         3136 [75.02%]\n",
      "    1           48          900 [21.53%]\n",
      "    2           12          144 [ 3.44%]\n",
      "\n"
     ]
    }
   ],
   "source": [
    "ml = pyamg.smoothed_aggregation_solver(A, B, max_coarse=5, keep=True)\n",
    "print(ml)"
   ]
  },
  {
   "cell_type": "code",
   "execution_count": 7,
   "metadata": {},
   "outputs": [
    {
     "data": {
      "text/plain": [
       "(200, 48)"
      ]
     },
     "execution_count": 7,
     "metadata": {},
     "output_type": "execute_result"
    }
   ],
   "source": [
    "ml.levels[0].P.shape"
   ]
  },
  {
   "cell_type": "code",
   "execution_count": 8,
   "metadata": {},
   "outputs": [
    {
     "data": {
      "text/plain": [
       "(100, 16)"
      ]
     },
     "execution_count": 8,
     "metadata": {},
     "output_type": "execute_result"
    }
   ],
   "source": [
    "ml.levels[0].AggOp.shape"
   ]
  },
  {
   "cell_type": "code",
   "execution_count": 9,
   "metadata": {},
   "outputs": [
    {
     "data": {
      "text/plain": [
       "array([0.02716991, 0.08864466, 0.11615648, 0.12565997, 0.13018331])"
      ]
     },
     "execution_count": 9,
     "metadata": {},
     "output_type": "execute_result"
    }
   ],
   "source": [
    "res = []\n",
    "x = ml.solve(np.random.rand(A.shape[0]), residuals=res)\n",
    "res = np.array(res)\n",
    "res[1:]/res[:-1]"
   ]
  },
  {
   "cell_type": "code",
   "execution_count": 10,
   "metadata": {},
   "outputs": [
    {
     "name": "stdout",
     "output_type": "stream",
     "text": [
      "multilevel_solver\n",
      "Number of Levels:     3\n",
      "Operator Complexity:  1.037\n",
      "Grid Complexity:      1.100\n",
      "Coarse Solver:        'pinv2'\n",
      "  level   unknowns     nonzeros\n",
      "    0          200         3136 [96.43%]\n",
      "    1           16          100 [ 3.08%]\n",
      "    2            4           16 [ 0.49%]\n",
      "\n"
     ]
    }
   ],
   "source": [
    "A = A.tocsr()\n",
    "ml = pyamg.smoothed_aggregation_solver(A, max_coarse=5)\n",
    "print(ml)"
   ]
  },
  {
   "cell_type": "code",
   "execution_count": 11,
   "metadata": {},
   "outputs": [
    {
     "data": {
      "text/plain": [
       "array([0.06595416, 0.42724406, 0.49846623, 0.51270107, 0.51866318,\n",
       "       0.52502997, 0.53395327, 0.54623163, 0.56181007, 0.57957638,\n",
       "       0.59753772, 0.61361765, 0.62651762, 0.63598265, 0.64248006,\n",
       "       0.64673798, 0.64944351])"
      ]
     },
     "execution_count": 11,
     "metadata": {},
     "output_type": "execute_result"
    }
   ],
   "source": [
    "res = []\n",
    "x = ml.solve(np.random.rand(A.shape[0]), residuals=res)\n",
    "res = np.array(res)\n",
    "res[1:]/res[:-1]"
   ]
  },
  {
   "cell_type": "code",
   "execution_count": 12,
   "metadata": {},
   "outputs": [
    {
     "data": {
      "text/plain": [
       "array([0.04086628, 0.47197265, 0.10314693, 0.18019445, 0.18822815,\n",
       "       0.20990102, 0.10619577])"
      ]
     },
     "execution_count": 12,
     "metadata": {},
     "output_type": "execute_result"
    }
   ],
   "source": [
    "res = []\n",
    "x = ml.solve(np.random.rand(A.shape[0]), residuals=res, accel='cg')\n",
    "res = np.array(res)\n",
    "res[1:]/res[:-1]"
   ]
  },
  {
   "cell_type": "code",
   "execution_count": null,
   "metadata": {},
   "outputs": [],
   "source": []
  },
  {
   "cell_type": "code",
   "execution_count": null,
   "metadata": {},
   "outputs": [],
   "source": []
  }
 ],
 "metadata": {
  "kernelspec": {
   "display_name": "Python 3",
   "language": "python",
   "name": "python3"
  },
  "language_info": {
   "codemirror_mode": {
    "name": "ipython",
    "version": 3
   },
   "file_extension": ".py",
   "mimetype": "text/x-python",
   "name": "python",
   "nbconvert_exporter": "python",
   "pygments_lexer": "ipython3",
   "version": "3.7.7"
  }
 },
 "nbformat": 4,
 "nbformat_minor": 4
}
