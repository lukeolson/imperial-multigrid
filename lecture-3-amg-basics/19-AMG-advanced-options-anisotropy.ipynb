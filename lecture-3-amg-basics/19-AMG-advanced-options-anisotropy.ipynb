{
 "cells": [
  {
   "cell_type": "markdown",
   "metadata": {
    "colab_type": "text",
    "id": "view-in-github"
   },
   "source": [
    "<a href=\"https://colab.research.google.com/github/lukeolson/imperial-multigrid/blob/master/lecture-3-amg-basics/19-AMG-advanced-options-anisotropy.ipynb\" target=\"_parent\"><img src=\"https://colab.research.google.com/assets/colab-badge.svg\" alt=\"Open In Colab\"/></a>"
   ]
  },
  {
   "cell_type": "code",
   "execution_count": null,
   "metadata": {},
   "outputs": [],
   "source": [
    "# You may need to install pyamg\n",
    "!pip3 install pyamg"
   ]
  },
  {
   "cell_type": "code",
   "execution_count": 1,
   "metadata": {},
   "outputs": [],
   "source": [
    "import numpy as np\n",
    "import scipy.io as sio\n",
    "import pyamg\n",
    "import scipy.sparse.linalg as sla\n",
    "\n",
    "import matplotlib.pyplot as plt\n",
    "from matplotlib import collections\n",
    "from matplotlib import tri\n",
    "%matplotlib inline\n",
    "\n",
    "import warnings\n",
    "warnings.simplefilter(action='ignore', category=FutureWarning)"
   ]
  },
  {
   "cell_type": "markdown",
   "metadata": {},
   "source": [
    "# Anisotropic diffusion problem"
   ]
  },
  {
   "cell_type": "code",
   "execution_count": 2,
   "metadata": {},
   "outputs": [],
   "source": [
    "stencil = pyamg.gallery.diffusion.diffusion_stencil_2d(type='FE', epsilon=0.001, theta=2 * np.pi / 16.0)\n",
    "A = pyamg.gallery.stencil_grid(stencil, (50, 50), format='csr')"
   ]
  },
  {
   "cell_type": "markdown",
   "metadata": {},
   "source": [
    "# Candidate vectors"
   ]
  },
  {
   "cell_type": "markdown",
   "metadata": {},
   "source": [
    "Start with a single vector"
   ]
  },
  {
   "cell_type": "code",
   "execution_count": 3,
   "metadata": {},
   "outputs": [],
   "source": [
    "B = np.ones((A.shape[0], 1))"
   ]
  },
  {
   "cell_type": "code",
   "execution_count": 4,
   "metadata": {},
   "outputs": [
    {
     "name": "stdout",
     "output_type": "stream",
     "text": [
      "multilevel_solver\n",
      "Number of Levels:     5\n",
      "Operator Complexity:  1.122\n",
      "Grid Complexity:      1.132\n",
      "Coarse Solver:        'pinv2'\n",
      "  level   unknowns     nonzeros\n",
      "    0         2500        21904 [89.12%]\n",
      "    1          289         2401 [ 9.77%]\n",
      "    2           36          256 [ 1.04%]\n",
      "    3            4           16 [ 0.07%]\n",
      "    4            1            1 [ 0.00%]\n",
      "\n"
     ]
    }
   ],
   "source": [
    "ml = pyamg.smoothed_aggregation_solver(A, B, max_coarse=1)\n",
    "print(ml)"
   ]
  },
  {
   "cell_type": "code",
   "execution_count": 5,
   "metadata": {},
   "outputs": [
    {
     "data": {
      "text/plain": [
       "array([0.54317738, 0.49112183, 0.53260069, 0.61734942, 0.70249154,\n",
       "       0.76610007, 0.80696698, 0.83258528, 0.84934804, 0.86100432,\n",
       "       0.86957475, 0.87616255, 0.8813979 , 0.8856609 , 0.88919403,\n",
       "       0.89216074, 0.8946769 , 0.89682823, 0.89868038, 0.90028492,\n",
       "       0.90168311, 0.90290838, 0.90398806, 0.9049446 , 0.90579657,\n",
       "       0.90655932, 0.90724563, 0.90786614, 0.90842972, 0.90894382,\n",
       "       0.90941469, 0.90984762, 0.91024705, 0.9106168 , 0.91096009,\n",
       "       0.9112797 , 0.91157804, 0.91185717, 0.91211891, 0.91236484,\n",
       "       0.91259634, 0.91281465, 0.91302085, 0.91321593, 0.91340076,\n",
       "       0.91357611, 0.9137427 , 0.91390117, 0.91405209, 0.91419601,\n",
       "       0.9143334 , 0.91446472, 0.91459035, 0.91471068, 0.91482606,\n",
       "       0.91493679, 0.91504317, 0.91514546, 0.91524393, 0.9153388 ,\n",
       "       0.91543028, 0.91551857, 0.91560386, 0.91568631, 0.91576609,\n",
       "       0.91584335, 0.91591822, 0.91599083, 0.91606131, 0.91612975,\n",
       "       0.91619627, 0.91626097, 0.91632394, 0.91638525, 0.916445  ,\n",
       "       0.91650325, 0.91656008, 0.91661555, 0.91666973, 0.91672266,\n",
       "       0.91677442, 0.91682504, 0.91687457, 0.91692307, 0.91697057,\n",
       "       0.91701712, 0.91706275, 0.9171075 , 0.91715141, 0.9171945 ,\n",
       "       0.9172368 , 0.91727835, 0.91731918])"
      ]
     },
     "execution_count": 5,
     "metadata": {},
     "output_type": "execute_result"
    }
   ],
   "source": [
    "res = []\n",
    "x = ml.solve(np.random.rand(A.shape[0]), residuals=res)\n",
    "res = np.array(res)\n",
    "res[1:] / res[:-1]"
   ]
  },
  {
   "cell_type": "markdown",
   "metadata": {},
   "source": [
    "Convergence is poor, what does the solution (error) look like?"
   ]
  },
  {
   "cell_type": "code",
   "execution_count": 6,
   "metadata": {},
   "outputs": [
    {
     "data": {
      "text/plain": [
       "94"
      ]
     },
     "execution_count": 6,
     "metadata": {},
     "output_type": "execute_result"
    }
   ],
   "source": [
    "len(res)"
   ]
  },
  {
   "cell_type": "code",
   "execution_count": 7,
   "metadata": {},
   "outputs": [
    {
     "data": {
      "text/plain": [
       "<matplotlib.colorbar.Colorbar at 0x11e2a9710>"
      ]
     },
     "execution_count": 7,
     "metadata": {},
     "output_type": "execute_result"
    },
    {
     "data": {
      "image/png": "[encoded data removed]",
      "text/plain": [
       "<Figure size 432x288 with 2 Axes>"
      ]
     },
     "metadata": {},
     "output_type": "display_data"
    }
   ],
   "source": [
    "plt.pcolormesh(x.reshape(50,50))\n",
    "plt.colorbar()"
   ]
  },
  {
   "cell_type": "markdown",
   "metadata": {},
   "source": [
    "Can we augment the candidate vector?  Take a vector of ones and the old solution (error) vector."
   ]
  },
  {
   "cell_type": "code",
   "execution_count": 8,
   "metadata": {},
   "outputs": [],
   "source": [
    "B = np.vstack((np.ones(A.shape[0],), x)).T"
   ]
  },
  {
   "cell_type": "code",
   "execution_count": 9,
   "metadata": {},
   "outputs": [
    {
     "data": {
      "text/plain": [
       "(2500, 2)"
      ]
     },
     "execution_count": 9,
     "metadata": {},
     "output_type": "execute_result"
    }
   ],
   "source": [
    "B.shape"
   ]
  },
  {
   "cell_type": "code",
   "execution_count": 10,
   "metadata": {},
   "outputs": [],
   "source": [
    "ml = pyamg.smoothed_aggregation_solver(A, B, max_coarse=1, keep=True)"
   ]
  },
  {
   "cell_type": "code",
   "execution_count": 11,
   "metadata": {},
   "outputs": [
    {
     "name": "stdout",
     "output_type": "stream",
     "text": [
      "multilevel_solver\n",
      "Number of Levels:     5\n",
      "Operator Complexity:  1.488\n",
      "Grid Complexity:      1.264\n",
      "Coarse Solver:        'pinv2'\n",
      "  level   unknowns     nonzeros\n",
      "    0         2500        21904 [67.19%]\n",
      "    1          578         9604 [29.46%]\n",
      "    2           72         1024 [ 3.14%]\n",
      "    3            8           64 [ 0.20%]\n",
      "    4            2            4 [ 0.01%]\n",
      "\n"
     ]
    }
   ],
   "source": [
    "print(ml)"
   ]
  },
  {
   "cell_type": "code",
   "execution_count": 12,
   "metadata": {},
   "outputs": [
    {
     "data": {
      "text/plain": [
       "array([0.0971536 , 0.61698692, 0.70360744, 0.74709174, 0.77597098,\n",
       "       0.79747127, 0.81434001, 0.82777481, 0.83849447, 0.84706257,\n",
       "       0.85395585, 0.8595691 , 0.86421596, 0.86813649, 0.87150938,\n",
       "       0.87446501, 0.87709719, 0.87947281, 0.88163935, 0.88363047,\n",
       "       0.88547016, 0.88717574, 0.88875994, 0.89023246, 0.89160102,\n",
       "       0.89287204, 0.89405115, 0.89514348, 0.8961539 , 0.89708706,\n",
       "       0.89794752, 0.89873972, 0.899468  , 0.90013658, 0.90074957,\n",
       "       0.90131091, 0.90182439, 0.90229362, 0.90272201, 0.90311279,\n",
       "       0.90346899, 0.90379345, 0.9040888 , 0.90435749, 0.9046018 ,\n",
       "       0.90482383, 0.9050255 , 0.9052086 , 0.90537477, 0.90552549,\n",
       "       0.90566215, 0.90578601, 0.9058982 , 0.90599977, 0.9060917 ,\n",
       "       0.90617484, 0.90625   , 0.9063179 , 0.9063792 , 0.90643451,\n",
       "       0.90648437, 0.90652929, 0.90656972, 0.90660608, 0.90663874,\n",
       "       0.90666805, 0.90669432, 0.90671783, 0.90673885, 0.90675761,\n",
       "       0.90677432, 0.90678919, 0.90680238, 0.90681406])"
      ]
     },
     "execution_count": 12,
     "metadata": {},
     "output_type": "execute_result"
    }
   ],
   "source": [
    "res = []\n",
    "x = ml.solve(np.random.rand(A.shape[0]), residuals=res)\n",
    "res = np.array(res)\n",
    "res[1:] / res[:-1]"
   ]
  },
  {
   "cell_type": "code",
   "execution_count": 13,
   "metadata": {},
   "outputs": [
    {
     "data": {
      "text/plain": [
       "<matplotlib.collections.QuadMesh at 0x10e45c390>"
      ]
     },
     "execution_count": 13,
     "metadata": {},
     "output_type": "execute_result"
    },
    {
     "data": {
      "image/png": "[encoded data removed]",
      "text/plain": [
       "<Figure size 432x288 with 1 Axes>"
      ]
     },
     "metadata": {},
     "output_type": "display_data"
    }
   ],
   "source": [
    "plt.pcolormesh(x.reshape(50,50))"
   ]
  },
  {
   "cell_type": "code",
   "execution_count": 14,
   "metadata": {},
   "outputs": [
    {
     "data": {
      "text/plain": [
       "multilevel_solver\n",
       "Number of Levels:     5\n",
       "Operator Complexity:  1.488\n",
       "Grid Complexity:      1.264\n",
       "Coarse Solver:        'pinv2'\n",
       "  level   unknowns     nonzeros\n",
       "    0         2500        21904 [67.19%]\n",
       "    1          578         9604 [29.46%]\n",
       "    2           72         1024 [ 3.14%]\n",
       "    3            8           64 [ 0.20%]\n",
       "    4            2            4 [ 0.01%]"
      ]
     },
     "execution_count": 14,
     "metadata": {},
     "output_type": "execute_result"
    }
   ],
   "source": [
    "ml"
   ]
  },
  {
   "cell_type": "code",
   "execution_count": 15,
   "metadata": {},
   "outputs": [
    {
     "data": {
      "text/plain": [
       "(2500, 578)"
      ]
     },
     "execution_count": 15,
     "metadata": {},
     "output_type": "execute_result"
    }
   ],
   "source": [
    "ml.levels[0].P.shape"
   ]
  },
  {
   "cell_type": "code",
   "execution_count": 16,
   "metadata": {},
   "outputs": [
    {
     "data": {
      "text/plain": [
       "(2500, 289)"
      ]
     },
     "execution_count": 16,
     "metadata": {},
     "output_type": "execute_result"
    }
   ],
   "source": [
    "ml.levels[0].AggOp.shape"
   ]
  },
  {
   "cell_type": "markdown",
   "metadata": {},
   "source": [
    "# Try Adaptive AMG\n",
    "\n",
    "In short, adaptive AMG will run a cycle on $Ax=0$ to determine improved $B$ vectors"
   ]
  },
  {
   "cell_type": "code",
   "execution_count": 17,
   "metadata": {},
   "outputs": [
    {
     "name": "stdout",
     "output_type": "stream",
     "text": [
      "multilevel_solver\n",
      "Number of Levels:     4\n",
      "Operator Complexity:  2.098\n",
      "Grid Complexity:      1.395\n",
      "Coarse Solver:        'pinv2'\n",
      "  level   unknowns     nonzeros\n",
      "    0         2500        21904 [47.66%]\n",
      "    1          867        21609 [47.02%]\n",
      "    2          108         2304 [ 5.01%]\n",
      "    3           12          144 [ 0.31%]\n",
      "\n"
     ]
    }
   ],
   "source": [
    "mladapt, work = pyamg.aggregation.adaptive_sa_solver(A, num_candidates=3)\n",
    "print(mladapt)"
   ]
  },
  {
   "cell_type": "markdown",
   "metadata": {},
   "source": [
    "Let's look at the candidate vectors"
   ]
  },
  {
   "cell_type": "code",
   "execution_count": 18,
   "metadata": {},
   "outputs": [
    {
     "data": {
      "text/plain": [
       "<matplotlib.collections.QuadMesh at 0x11e36e1d0>"
      ]
     },
     "execution_count": 18,
     "metadata": {},
     "output_type": "execute_result"
    },
    {
     "data": {
      "image/png": "[encoded data removed]",
      "text/plain": [
       "<Figure size 432x288 with 1 Axes>"
      ]
     },
     "metadata": {},
     "output_type": "display_data"
    }
   ],
   "source": [
    "plt.pcolormesh(mladapt.levels[0].B[:,0].reshape(50,50))"
   ]
  },
  {
   "cell_type": "code",
   "execution_count": 19,
   "metadata": {},
   "outputs": [
    {
     "data": {
      "text/plain": [
       "<matplotlib.collections.QuadMesh at 0x10cc02410>"
      ]
     },
     "execution_count": 19,
     "metadata": {},
     "output_type": "execute_result"
    },
    {
     "data": {
      "image/png": "[encoded data removed]",
      "text/plain": [
       "<Figure size 432x288 with 1 Axes>"
      ]
     },
     "metadata": {},
     "output_type": "display_data"
    }
   ],
   "source": [
    "plt.pcolormesh(mladapt.levels[0].B[:,1].reshape(50,50))"
   ]
  },
  {
   "cell_type": "code",
   "execution_count": 20,
   "metadata": {},
   "outputs": [
    {
     "data": {
      "text/plain": [
       "<matplotlib.collections.QuadMesh at 0x11e7a2710>"
      ]
     },
     "execution_count": 20,
     "metadata": {},
     "output_type": "execute_result"
    },
    {
     "data": {
      "image/png": "[encoded data removed]",
      "text/plain": [
       "<Figure size 432x288 with 1 Axes>"
      ]
     },
     "metadata": {},
     "output_type": "display_data"
    }
   ],
   "source": [
    "plt.pcolormesh(mladapt.levels[0].B[:,2].reshape(50,50))"
   ]
  },
  {
   "cell_type": "code",
   "execution_count": 21,
   "metadata": {},
   "outputs": [
    {
     "name": "stdout",
     "output_type": "stream",
     "text": [
      "multilevel_solver\n",
      "Number of Levels:     5\n",
      "Operator Complexity:  2.099\n",
      "Grid Complexity:      1.396\n",
      "Coarse Solver:        'pinv2'\n",
      "  level   unknowns     nonzeros\n",
      "    0         2500        21904 [47.65%]\n",
      "    1          867        21609 [47.01%]\n",
      "    2          108         2304 [ 5.01%]\n",
      "    3           12          144 [ 0.31%]\n",
      "    4            3            9 [ 0.02%]\n",
      "\n"
     ]
    }
   ],
   "source": [
    "ml = pyamg.smoothed_aggregation_solver(A, mladapt.levels[0].B, max_coarse=1)\n",
    "print(ml)"
   ]
  },
  {
   "cell_type": "markdown",
   "metadata": {},
   "source": [
    "# Check the convergence\n",
    "\n",
    "Let's see how well improved candidate vectors work for both a SA and adaptive SA method."
   ]
  },
  {
   "cell_type": "code",
   "execution_count": 22,
   "metadata": {},
   "outputs": [
    {
     "data": {
      "text/plain": [
       "array([0.10938388, 0.35417254, 0.45706923, 0.50313011, 0.53135075,\n",
       "       0.54894956, 0.56013317, 0.56760379, 0.57296644, 0.57716588,\n",
       "       0.58078788, 0.58423062, 0.58779394, 0.59172075, 0.5962092 ,\n",
       "       0.60140445, 0.60737698])"
      ]
     },
     "execution_count": 22,
     "metadata": {},
     "output_type": "execute_result"
    }
   ],
   "source": [
    "res = []\n",
    "x = ml.solve(np.random.rand(A.shape[0]), residuals=res)\n",
    "res = np.array(res)\n",
    "res[1:] / res[:-1]"
   ]
  },
  {
   "cell_type": "code",
   "execution_count": 23,
   "metadata": {},
   "outputs": [
    {
     "data": {
      "text/plain": [
       "array([0.13851597, 0.39670044, 0.47979561, 0.53539309, 0.57823153,\n",
       "       0.61279865, 0.64059862, 0.66200395, 0.67761586, 0.68847846,\n",
       "       0.69578221, 0.70058655, 0.70370811, 0.70572534, 0.70702831,\n",
       "       0.70787282, 0.70842408, 0.70878799, 0.70903219, 0.70919983,\n",
       "       0.70931843, 0.70940552, 0.70947227, 0.70952576])"
      ]
     },
     "execution_count": 23,
     "metadata": {},
     "output_type": "execute_result"
    }
   ],
   "source": [
    "res = []\n",
    "x = mladapt.solve(np.random.rand(A.shape[0]), residuals=res)\n",
    "res = np.array(res)\n",
    "res[1:] / res[:-1]"
   ]
  },
  {
   "cell_type": "markdown",
   "metadata": {},
   "source": [
    "# Improving SOC"
   ]
  },
  {
   "cell_type": "code",
   "execution_count": 24,
   "metadata": {},
   "outputs": [
    {
     "name": "stdout",
     "output_type": "stream",
     "text": [
      "multilevel_solver\n",
      "Number of Levels:     5\n",
      "Operator Complexity:  1.342\n",
      "Grid Complexity:      1.206\n",
      "Coarse Solver:        'pinv2'\n",
      "  level   unknowns     nonzeros\n",
      "    0         2500        21904 [74.53%]\n",
      "    1          425         5891 [20.04%]\n",
      "    2           78         1492 [ 5.08%]\n",
      "    3           10          100 [ 0.34%]\n",
      "    4            2            4 [ 0.01%]\n",
      "\n"
     ]
    }
   ],
   "source": [
    "B = np.ones((A.shape[0],1))\n",
    "ml = pyamg.smoothed_aggregation_solver(A, B, strength='evolution', max_coarse=5)\n",
    "print(ml)"
   ]
  },
  {
   "cell_type": "code",
   "execution_count": 25,
   "metadata": {},
   "outputs": [
    {
     "data": {
      "text/plain": [
       "array([0.33685198, 0.30025907, 0.47242675, 0.62722361, 0.6958938 ,\n",
       "       0.73107573, 0.75345159, 0.7691182 , 0.78057313, 0.7891501 ,\n",
       "       0.79568061, 0.80072854, 0.80469238, 0.80785885, 0.81043561,\n",
       "       0.8125732 , 0.81438068, 0.81593692, 0.81729895, 0.818508  ,\n",
       "       0.81959392, 0.82057847, 0.82147759, 0.8223031 , 0.82306395,\n",
       "       0.82376703, 0.8244178 , 0.82502074, 0.82557962, 0.82609773,\n",
       "       0.826578  , 0.82702311, 0.82743555, 0.82781764, 0.82817158,\n",
       "       0.82849945, 0.82880321, 0.82908472, 0.82934574, 0.82958794,\n",
       "       0.82981285, 0.83002194])"
      ]
     },
     "execution_count": 25,
     "metadata": {},
     "output_type": "execute_result"
    }
   ],
   "source": [
    "res = []\n",
    "x = ml.solve(np.random.rand(A.shape[0]), residuals=res)\n",
    "res = np.array(res)\n",
    "res[1:] / res[:-1]"
   ]
  },
  {
   "cell_type": "markdown",
   "metadata": {},
   "source": [
    "# Improving Interpolation"
   ]
  },
  {
   "cell_type": "code",
   "execution_count": 26,
   "metadata": {},
   "outputs": [
    {
     "name": "stdout",
     "output_type": "stream",
     "text": [
      "multilevel_solver\n",
      "Number of Levels:     4\n",
      "Operator Complexity:  1.711\n",
      "Grid Complexity:      1.185\n",
      "Coarse Solver:        'pinv2'\n",
      "  level   unknowns     nonzeros\n",
      "    0         2500        21904 [58.45%]\n",
      "    1          425        14673 [39.15%]\n",
      "    2           36          898 [ 2.40%]\n",
      "    3            1            1 [ 0.00%]\n",
      "\n"
     ]
    }
   ],
   "source": [
    "B = np.ones((A.shape[0],1))\n",
    "smooth=('energy', {'krylov': 'cg', 'maxiter': 4, 'degree': 3, 'weighting': 'local'})\n",
    "ml = pyamg.smoothed_aggregation_solver(A, B, strength='evolution', max_coarse=5,\n",
    "                                       smooth=smooth)\n",
    "print(ml)"
   ]
  },
  {
   "cell_type": "code",
   "execution_count": 27,
   "metadata": {},
   "outputs": [
    {
     "data": {
      "text/plain": [
       "array([0.75319336, 0.49989532, 0.3969652 , 0.38234169, 0.38012928,\n",
       "       0.38010047, 0.38041582, 0.38073187, 0.38099346, 0.38120087,\n",
       "       0.38136364, 0.3814915 , 0.38159275])"
      ]
     },
     "execution_count": 27,
     "metadata": {},
     "output_type": "execute_result"
    }
   ],
   "source": [
    "res = []\n",
    "x = ml.solve(np.random.rand(A.shape[0]), residuals=res)\n",
    "res = np.array(res)\n",
    "res[1:] / res[:-1]"
   ]
  },
  {
   "cell_type": "code",
   "execution_count": 28,
   "metadata": {},
   "outputs": [
    {
     "data": {
      "text/plain": [
       "array([2.86414001e+01, 2.15725124e+01, 1.07839979e+01, 4.28087192e+00,\n",
       "       1.63675580e+00, 6.22178798e-01, 2.36490451e-01, 8.99647099e-02,\n",
       "       3.42524321e-02, 1.30499526e-02, 4.97465331e-03, 1.89715189e-03,\n",
       "       7.23747317e-04, 2.76176727e-04])"
      ]
     },
     "execution_count": 28,
     "metadata": {},
     "output_type": "execute_result"
    }
   ],
   "source": [
    "res"
   ]
  },
  {
   "cell_type": "code",
   "execution_count": null,
   "metadata": {},
   "outputs": [],
   "source": []
  }
 ],
 "metadata": {
  "kernelspec": {
   "display_name": "Python 3",
   "language": "python",
   "name": "python3"
  },
  "language_info": {
   "codemirror_mode": {
    "name": "ipython",
    "version": 3
   },
   "file_extension": ".py",
   "mimetype": "text/x-python",
   "name": "python",
   "nbconvert_exporter": "python",
   "pygments_lexer": "ipython3",
   "version": "3.7.7"
  }
 },
 "nbformat": 4,
 "nbformat_minor": 4
}
