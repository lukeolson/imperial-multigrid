{
 "cells": [
  {
   "cell_type": "markdown",
   "metadata": {
    "colab_type": "text",
    "id": "view-in-github"
   },
   "source": [
    "<a href=\"https://colab.research.google.com/github/lukeolson/imperial-multigrid/blob/master/lecture-1-mg-basics/8-multigrid-v-cycle.ipynb\" target=\"_parent\"><img src=\"https://colab.research.google.com/assets/colab-badge.svg\" alt=\"Open In Colab\"/></a>"
   ]
  },
  {
   "cell_type": "code",
   "execution_count": 1,
   "metadata": {},
   "outputs": [],
   "source": [
    "import scipy as sp\n",
    "import numpy as np\n",
    "import scipy.sparse as sparse\n",
    "import scipy.sparse.linalg as sla\n",
    "import matplotlib.pyplot as plt\n",
    "plt.style.use('seaborn-talk')\n",
    "\n",
    "%matplotlib inline"
   ]
  },
  {
   "cell_type": "markdown",
   "metadata": {},
   "source": [
    "### Define:\n",
    "\n",
    "- `hnorm`: a grid dependent L2 norm\n",
    "- `poissonopmatrix` and `poissonop`, a matrix and matrix free version of the Poisson operator\n",
    "- `residual`, `relax`, `interpolate`, `restrict`, matrix free multigrid components"
   ]
  },
  {
   "cell_type": "code",
   "execution_count": 2,
   "metadata": {},
   "outputs": [],
   "source": [
    "def hnorm(r):\n",
    "    \"\"\"define ||r||_h = h ||r||_2\"\"\"\n",
    "    n = len(r)\n",
    "    h = 1.0 / (n+1)\n",
    "    hrnorm = h * np.linalg.norm(r)\n",
    "    return hrnorm\n",
    "\n",
    "def poissonopmatrix(n):\n",
    "    A = (n+1)**2 * sparse.diags([-1, 2, -1], [-1, 0, 1], shape=(n,n), format='csr')\n",
    "    return A\n",
    "\n",
    "def poissonop(u):\n",
    "    \"\"\"\n",
    "    Poisson operator h^{-2} * [-1 2 1]\n",
    "    Action of A * u\n",
    "    \"\"\"\n",
    "    n = len(u)\n",
    "    v = np.zeros(len(u))\n",
    "    v[1:-1] = ((n+1)**2) * (2 * u[1:-1] - u[2:] - u[:-2])\n",
    "    v[0]    = ((n+1)**2) * (2 * u[0]    - u[1])\n",
    "    v[-1]   = ((n+1)**2) * (2 * u[-1]   - u[-2])\n",
    "    return v\n",
    "\n",
    "def residual(u, f):\n",
    "    \"\"\"\n",
    "    f - A u\n",
    "    \"\"\"\n",
    "    n = len(f)\n",
    "    r = np.zeros(len(u))\n",
    "    r[1:-1] = f[1:-1] - ((n+1)**2) * (2 * u[1:-1] - u[2:] - u[:-2])\n",
    "    r[0]    = f[0]    - ((n+1)**2) * (2 * u[0]    - u[1])\n",
    "    r[-1]   = f[-1]   - ((n+1)**2) * (2 * u[-1]   - u[-2])\n",
    "    return r\n",
    "\n",
    "def relax(u, f, nu):\n",
    "    \"\"\"\n",
    "    Weighted Jacobi\n",
    "    \"\"\"\n",
    "    n = len(u)\n",
    "    Dinv = 1.0 / (2.0 * ((n+1)**2))\n",
    "    omega = 2.0 / 3.0\n",
    "    unew = u.copy()\n",
    "    \n",
    "    for steps in range(nu):\n",
    "        unew = unew + omega * Dinv * residual(unew, f)\n",
    "    \n",
    "    return unew\n",
    "\n",
    "def interpolate(uc):\n",
    "    \"\"\"interpolate u of size 2**(k-1)-1 to 2**(k)-1\"\"\"\n",
    "    uf = np.zeros((2*len(uc) + 1,))\n",
    "    uf[:-1:2] = 0.5 * uc\n",
    "    uf[1::2] = uc\n",
    "    uf[2::2] += 0.5 * uc\n",
    "    return uf\n",
    "\n",
    "def restrict(uf):\n",
    "    \"\"\"restrict u of size 2**(k)-1 to 2**(k-1)-1\"\"\"\n",
    "    uc = 0.25 * uf[:-1:2] + 0.5 * uf[1::2] + 0.25 * uf[2::2]\n",
    "    return uc"
   ]
  },
  {
   "cell_type": "markdown",
   "metadata": {},
   "source": [
    "### Two-grid, hand-coded"
   ]
  },
  {
   "cell_type": "code",
   "execution_count": 3,
   "metadata": {},
   "outputs": [],
   "source": [
    "def vcycle2(u0, f0, nu):\n",
    "    u0 = relax(u0, f0, nu)\n",
    "    f1 = restrict(residual(u0, f0))\n",
    "    u1 = sla.spsolve(poissonopmatrix(len(f1)), f1)    \n",
    "    ui = interpolate(u1)\n",
    "    u0 = u0 + ui\n",
    "    u0 = relax(u0, f0, nu)\n",
    "    return u0"
   ]
  },
  {
   "cell_type": "markdown",
   "metadata": {},
   "source": [
    "### Three-grid, hand-coded"
   ]
  },
  {
   "cell_type": "code",
   "execution_count": 3,
   "metadata": {},
   "outputs": [],
   "source": [
    "def vcycle3(u, f, nu):\n",
    "    f0 = f.copy()\n",
    "    u0 = u.copy()\n",
    "    \n",
    "    u0 = relax(u0, f0, nu)\n",
    "    f1 = restrict(residual(u0, f0))\n",
    "    \n",
    "    u1 = relax(np.zeros(len(f1)), f1, nu)\n",
    "    f2 = restrict(residual(u1, f1))\n",
    "    \n",
    "    A2 = poissonopmatrix(len(f2))\n",
    "    u2 = sla.spsolve(A2, f2)\n",
    "    \n",
    "    u1 += interpolate(u2)\n",
    "    u1 = relax(u1, f1, 1)\n",
    "    \n",
    "    u0 += interpolate(u1)\n",
    "    u0 = relax(u0, f0, 1)\n",
    "    return u0"
   ]
  },
  {
   "cell_type": "markdown",
   "metadata": {},
   "source": [
    "### V-cycle (non-recursive)"
   ]
  },
  {
   "cell_type": "code",
   "execution_count": 4,
   "metadata": {},
   "outputs": [],
   "source": [
    "def vcycle(kmax, kmin, u, f, nu):\n",
    "    \"\"\"\n",
    "    kmax : size of the fine grid 2**kmax -1\n",
    "    kmin : size of the coarse grid 2**kmin - 1\n",
    "    \"\"\"\n",
    "    ulist = [None for k in range(kmax+1)]\n",
    "    flist = [None for k in range(kmax+1)]\n",
    "    \n",
    "    # down cycle\n",
    "    for k in range(kmax, kmin, -1):\n",
    "        u = relax(u, f, nu)\n",
    "        ulist[k] = u\n",
    "        flist[k] = f\n",
    "        \n",
    "        f = restrict(residual(u, f))\n",
    "        u = np.zeros(f.shape)\n",
    "        ulist[k-1] = u\n",
    "        flist[k-1] = f\n",
    "\n",
    "    # coarsest grid\n",
    "    Ac = poissonopmatrix(2**kmin - 1)\n",
    "    flist[kmin] = f\n",
    "    ulist[kmin] = sla.spsolve(Ac, f)\n",
    "\n",
    "    # up cycle\n",
    "    for k in range(kmin+1, kmax+1, 1):\n",
    "        u = ulist[k]\n",
    "        f = flist[k]\n",
    "        uc = ulist[k-1]\n",
    "        u += interpolate(uc)\n",
    "        u = relax(u, f, nu)\n",
    "    return u"
   ]
  },
  {
   "cell_type": "markdown",
   "metadata": {},
   "source": [
    "## Set up a problem\n",
    "\n",
    "Here we will set up a problem on $\\Omega = [0,1]$.\n",
    "$$\n",
    "f = 2 - 12 x^2\\\\\n",
    "u^* = x^4 - x^2\n",
    "$$\n",
    "where $u^*$ will solve the problem\n",
    "$$\n",
    "-u'' = f\n",
    "$$\n",
    "In addition, from the matrix problem $A u = f$, we define\n",
    "$$\n",
    "u^*_d = A^{-1} f\n",
    "$$"
   ]
  },
  {
   "cell_type": "code",
   "execution_count": 5,
   "metadata": {},
   "outputs": [
    {
     "name": "stdout",
     "output_type": "stream",
     "text": [
      "discretization error:  3.1518404129513896e-05\n"
     ]
    }
   ],
   "source": [
    "kmax = 5\n",
    "kmin = 2\n",
    "\n",
    "# set up fine problem\n",
    "n = 2**kmax - 1\n",
    "\n",
    "xx = np.linspace(0, 1, n+2)[1:-1]\n",
    "\n",
    "f = 2 - 12 * xx**2\n",
    "\n",
    "ustar = xx**4 - xx**2\n",
    "A = poissonopmatrix(len(f))\n",
    "udstar = sla.spsolve(A, f)\n",
    "print(\"discretization error: \", hnorm(ustar - udstar))"
   ]
  },
  {
   "cell_type": "markdown",
   "metadata": {},
   "source": [
    "## Things to measure\n",
    "\n",
    "We'll measure four things in this test:\n",
    "1. The residual\n",
    "$$\n",
    "r_k = f - A u_k\n",
    "$$\n",
    "2. The discretization error\n",
    "$$\n",
    "e = u^* - u_d^*\n",
    "$$\n",
    "3. The total error\n",
    "$$\n",
    "e = u^* - u_k\n",
    "$$\n",
    "4. The algebraic error\n",
    "$$\n",
    "e = u^*_d - u_k\n",
    "$$"
   ]
  },
  {
   "cell_type": "code",
   "execution_count": 9,
   "metadata": {
    "scrolled": true
   },
   "outputs": [
    {
     "name": "stdout",
     "output_type": "stream",
     "text": [
      "res = 1.1621e+01, total err = 1.8003e-02  alg err = 1.7989e-02\n",
      "res = 2.0021e+00, total err = 4.4884e-03  alg err = 4.4860e-03\n",
      "res = 5.0109e-01, total err = 1.2981e-03  alg err = 1.2980e-03\n",
      "res = 1.4113e-01, total err = 3.8540e-04  alg err = 3.8495e-04\n",
      "res = 4.0813e-02, total err = 1.1920e-04  alg err = 1.1584e-04\n",
      "res = 1.1891e-02, total err = 4.6814e-05  alg err = 3.5405e-05\n",
      "res = 3.4955e-03, total err = 3.3169e-05  alg err = 1.1009e-05\n",
      "res = 1.0425e-03, total err = 3.1652e-05  alg err = 3.4817e-06\n",
      "res = 3.1669e-04, total err = 3.1523e-05  alg err = 1.1175e-06\n",
      "res = 9.8121e-05, total err = 3.1517e-05  alg err = 3.6296e-07\n",
      "res = 3.0967e-05, total err = 3.1518e-05  alg err = 1.1895e-07\n",
      "res = 9.9274e-06, total err = 3.1518e-05  alg err = 3.9232e-08\n",
      "res = 3.2218e-06, total err = 3.1518e-05  alg err = 1.2998e-08\n",
      "res = 1.0552e-06, total err = 3.1518e-05  alg err = 4.3195e-09\n",
      "res = 3.4789e-07, total err = 3.1518e-05  alg err = 1.4384e-09\n",
      "res = 1.1522e-07, total err = 3.1518e-05  alg err = 4.7967e-10\n",
      "res = 3.8279e-08, total err = 3.1518e-05  alg err = 1.6010e-10\n",
      "res = 1.2744e-08, total err = 3.1518e-05  alg err = 5.3472e-11\n",
      "res = 4.2491e-09, total err = 3.1518e-05  alg err = 1.7866e-11\n",
      "res = 1.4181e-09, total err = 3.1518e-05  alg err = 5.9711e-12\n"
     ]
    }
   ],
   "source": [
    "u = np.random.rand(len(f))\n",
    "\n",
    "# set up smoothing sweeps\n",
    "nu = 1\n",
    "\n",
    "res = []\n",
    "err = []\n",
    "aerr = []\n",
    "\n",
    "res.append(hnorm(residual(u, f)))\n",
    "for i in range(20):\n",
    "    u = vcycle(kmax, kmin, u, f, nu)\n",
    "    res.append(hnorm(residual(u, f)))\n",
    "    err.append(hnorm(u - ustar))\n",
    "    aerr.append(hnorm(udstar - u))\n",
    "    print(\"res = %10.4e, total err = %10.4e  alg err = %10.4e\" % (res[-1], err[-1], aerr[-1]))"
   ]
  },
  {
   "cell_type": "code",
   "execution_count": 10,
   "metadata": {},
   "outputs": [
    {
     "data": {
      "text/plain": [
       "<matplotlib.legend.Legend at 0x120c08cd0>"
      ]
     },
     "execution_count": 10,
     "metadata": {},
     "output_type": "execute_result"
    },
    {
     "data": {
      "image/png": "[encoded data removed]",
      "text/plain": [
       "<Figure size 432x288 with 1 Axes>"
      ]
     },
     "metadata": {},
     "output_type": "display_data"
    }
   ],
   "source": [
    "plt.semilogy(res, lw=3, label='residual')\n",
    "plt.semilogy(err, lw=3, label='error')\n",
    "de = hnorm(ustar - udstar)\n",
    "plt.semilogy([de for i in range(len(err))],':', lw=3, label='discretization error')\n",
    "plt.legend(fontsize=15)"
   ]
  },
  {
   "cell_type": "code",
   "execution_count": 9,
   "metadata": {},
   "outputs": [
    {
     "data": {
      "text/plain": [
       "[164.72478521566904,\n",
       " 13.600674993987809,\n",
       " 2.158469257603809,\n",
       " 0.5223593040229846,\n",
       " 0.14631842947286164,\n",
       " 0.04153847584675892,\n",
       " 0.011647470430006145,\n",
       " 0.003224042032042035,\n",
       " 0.0008841942165242901,\n",
       " 0.00024108608351483378,\n",
       " 6.551983903653123e-05,\n",
       " 1.7778977780877564e-05,\n",
       " 4.822921960619987e-06,\n",
       " 1.3092060998197664e-06,\n",
       " 3.559618558025253e-07,\n",
       " 9.704100195261439e-08]"
      ]
     },
     "execution_count": 9,
     "metadata": {},
     "output_type": "execute_result"
    }
   ],
   "source": [
    "res"
   ]
  },
  {
   "cell_type": "code",
   "execution_count": 11,
   "metadata": {},
   "outputs": [
    {
     "data": {
      "text/plain": [
       "array([0.09966912, 0.17228871, 0.25028332, 0.28163563, 0.28919449,\n",
       "       0.29134385, 0.29397042, 0.29823641, 0.30378807, 0.30983311,\n",
       "       0.31560184, 0.3205755 , 0.32454185, 0.32752608, 0.3296796 ,\n",
       "       0.33118963, 0.33222852, 0.33293472, 0.33341131, 0.33373182])"
      ]
     },
     "execution_count": 11,
     "metadata": {},
     "output_type": "execute_result"
    }
   ],
   "source": [
    "res = np.array(res)\n",
    "res[1:] / res[:-1]"
   ]
  },
  {
   "cell_type": "code",
   "execution_count": null,
   "metadata": {},
   "outputs": [],
   "source": []
  }
 ],
 "metadata": {
  "kernelspec": {
   "display_name": "Python 3",
   "language": "python",
   "name": "python3"
  },
  "language_info": {
   "codemirror_mode": {
    "name": "ipython",
    "version": 3
   },
   "file_extension": ".py",
   "mimetype": "text/x-python",
   "name": "python",
   "nbconvert_exporter": "python",
   "pygments_lexer": "ipython3",
   "version": "3.7.7"
  }
 },
 "nbformat": 4,
 "nbformat_minor": 2
}
