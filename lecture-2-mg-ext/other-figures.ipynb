{
 "cells": [
  {
   "cell_type": "markdown",
   "metadata": {
    "colab_type": "text",
    "id": "view-in-github"
   },
   "source": [
    "<a href=\"https://colab.research.google.com/github/lukeolson/imperial-multigrid/blob/master/lecture-2-mg-ext/other-figures.ipynb\" target=\"_parent\"><img src=\"https://colab.research.google.com/assets/colab-badge.svg\" alt=\"Open In Colab\"/></a>"
   ]
  },
  {
   "cell_type": "code",
   "execution_count": 5,
   "metadata": {},
   "outputs": [],
   "source": [
    "import scipy as sp\n",
    "import numpy as np\n",
    "import scipy.sparse as sparse\n",
    "import scipy.sparse.linalg as sla\n",
    "import matplotlib.pyplot as plt\n",
    "plt.style.use('seaborn-talk')\n",
    "import pyamg\n",
    "\n",
    "%matplotlib inline"
   ]
  },
  {
   "cell_type": "code",
   "execution_count": 42,
   "metadata": {},
   "outputs": [],
   "source": [
    "def relaxJ(A, u, f, nu, omega):\n",
    "    n = A.shape[0]\n",
    "    unew = u.copy()\n",
    "    Dinv = sparse.spdiags(1./A.diagonal(), [0], n, n)\n",
    "    #omega = 4 / 5\n",
    "\n",
    "    for i in range(nu):\n",
    "        unew += omega * Dinv * (f - A * unew)\n",
    "\n",
    "    return unew\n",
    "\n",
    "def relaxGS(A, u, f, nu):\n",
    "    n = A.shape[0]\n",
    "    unew = u.copy()\n",
    "    \n",
    "    D = sparse.spdiags(A.diagonal(), [0], A.shape[0], A.shape[1], format='csr')\n",
    "    E = -sparse.tril(A, -1)\n",
    "    \n",
    "    for i in range(nu):\n",
    "        unew += sla.spsolve(D-E, f - A * unew)\n",
    "\n",
    "    return unew\n",
    "\n",
    "def interpolation1d(nc, nf):\n",
    "    d = np.repeat([[1, 2, 1]], nc, axis=0).T\n",
    "    I = np.zeros((3,nc), dtype=int)\n",
    "    for i in range(nc):\n",
    "        I[:,i] = [2*i, 2*i+1, 2*i+2]\n",
    "    J = np.repeat([np.arange(nc)], 3, axis=0)\n",
    "    P = sparse.coo_matrix(\n",
    "        (d.ravel(), (I.ravel(), J.ravel()))\n",
    "        ).tocsr()\n",
    "    return 0.5 * P\n",
    "\n",
    "def poissonop(n, epsilon=1):\n",
    "    \"\"\"\n",
    "    Create a 2D operator from a stencil.\n",
    "    \"\"\"\n",
    "    #sten = np.array([[0, -1, 0], [-1, 4, -1], [0, -1, 0]])\n",
    "    sten = pyamg.gallery.diffusion_stencil_2d(epsilon=epsilon, type='FD')\n",
    "    A = pyamg.gallery.stencil.stencil_grid(sten, (n, n))\n",
    "    return A"
   ]
  },
  {
   "cell_type": "code",
   "execution_count": 23,
   "metadata": {},
   "outputs": [
    {
     "data": {
      "image/png": "[encoded data removed]",
      "text/plain": [
       "<Figure size 432x288 with 2 Axes>"
      ]
     },
     "metadata": {},
     "output_type": "display_data"
    }
   ],
   "source": [
    "k = 5\n",
    "n = 2**k - 1\n",
    "nc = 2**(k-1) - 1\n",
    "A = poissonop(n, epsilon=1)\n",
    "#Y, X = np.mgrid[0:1:n*1j,0:1:n*1j]\n",
    "X, Y = np.meshgrid(np.linspace(0,1,n),\n",
    "                   np.linspace(0,1,n))\n",
    "f = np.zeros((n,n)).ravel()\n",
    "z = np.zeros((n,n))\n",
    "for k1 in range(1,n+1):\n",
    "    for k2 in range(1,n+1):\n",
    "        v = np.outer(np.sin(np.arange(1,n+1) * k1 * np.pi / (n+1)),\n",
    "                     np.sin(np.arange(1,n+1) * k2 * np.pi / (n+1)))\n",
    "        v = v.ravel()\n",
    "        nv0 = np.linalg.norm(v)\n",
    "        m = 10\n",
    "        v = relaxJ(A, v, f, m, omega=0.5)\n",
    "        nv1 = np.linalg.norm(v)\n",
    "        z[k1-1,k2-1] = (nv1 / nv0)**(1/m)\n",
    "plt.pcolor(z)\n",
    "plt.colorbar()\n",
    "plt.savefig('output-05.pdf')"
   ]
  },
  {
   "cell_type": "code",
   "execution_count": 24,
   "metadata": {},
   "outputs": [],
   "source": [
    "def totex(A):\n",
    "    m, n = A.shape\n",
    "    rstr = \"\".join(['r' for i in range(n)])\n",
    "    print('\\\\left[\\\\begin{array}{' + rstr + r'}')\n",
    "    for i in range(m):\n",
    "        for j in range(n):\n",
    "            if A[i,j] == 0:\n",
    "                print(' ', end='')\n",
    "            else:\n",
    "                a = A[i,j]\n",
    "                if float(a) == float(int(a)):\n",
    "                    a = int(a)\n",
    "                print(f'{a}', end='')\n",
    "            if j != (n-1):\n",
    "                print(' & ', end='')\n",
    "            else:\n",
    "                if i != (m-1):\n",
    "                    print(' \\\\\\\\')\n",
    "                else:\n",
    "                    print('')\n",
    "    print('\\\\end{array}\\\\right]')"
   ]
  },
  {
   "cell_type": "code",
   "execution_count": 30,
   "metadata": {},
   "outputs": [
    {
     "name": "stdout",
     "output_type": "stream",
     "text": [
      "\\left[\\begin{array}{rrrrrrrrrrrrrrrr}\n",
      "4 & -1 &   &   & -1 &   &   &   &   &   &   &   &   &   &   &   \\\\\n",
      "-1 & 4 & -1 &   &   & -1 &   &   &   &   &   &   &   &   &   &   \\\\\n",
      "  & -1 & 4 & -1 &   &   & -1 &   &   &   &   &   &   &   &   &   \\\\\n",
      "  &   & -1 & 4 &   &   &   & -1 &   &   &   &   &   &   &   &   \\\\\n",
      "-1 &   &   &   & 4 & -1 &   &   & -1 &   &   &   &   &   &   &   \\\\\n",
      "  & -1 &   &   & -1 & 4 & -1 &   &   & -1 &   &   &   &   &   &   \\\\\n",
      "  &   & -1 &   &   & -1 & 4 & -1 &   &   & -1 &   &   &   &   &   \\\\\n",
      "  &   &   & -1 &   &   & -1 & 4 &   &   &   & -1 &   &   &   &   \\\\\n",
      "  &   &   &   & -1 &   &   &   & 4 & -1 &   &   & -1 &   &   &   \\\\\n",
      "  &   &   &   &   & -1 &   &   & -1 & 4 & -1 &   &   & -1 &   &   \\\\\n",
      "  &   &   &   &   &   & -1 &   &   & -1 & 4 & -1 &   &   & -1 &   \\\\\n",
      "  &   &   &   &   &   &   & -1 &   &   & -1 & 4 &   &   &   & -1 \\\\\n",
      "  &   &   &   &   &   &   &   & -1 &   &   &   & 4 & -1 &   &   \\\\\n",
      "  &   &   &   &   &   &   &   &   & -1 &   &   & -1 & 4 & -1 &   \\\\\n",
      "  &   &   &   &   &   &   &   &   &   & -1 &   &   & -1 & 4 & -1 \\\\\n",
      "  &   &   &   &   &   &   &   &   &   &   & -1 &   &   & -1 & 4\n",
      "\\end{array}\\right]\n"
     ]
    }
   ],
   "source": [
    "epsilon=1\n",
    "n=4\n",
    "sten = pyamg.gallery.diffusion_stencil_2d(epsilon=epsilon, type='FD')\n",
    "A = pyamg.gallery.stencil.stencil_grid(sten, (n, n))\n",
    "totex(A.toarray())"
   ]
  },
  {
   "cell_type": "code",
   "execution_count": 31,
   "metadata": {},
   "outputs": [],
   "source": [
    "def interpolation1d(nc, nf):\n",
    "    d = np.repeat([[1, 2, 1]], nc, axis=0).T\n",
    "    I = np.zeros((3,nc), dtype=int)\n",
    "    for i in range(nc):\n",
    "        I[:,i] = [2*i, 2*i+1, 2*i+2]\n",
    "    J = np.repeat([np.arange(nc)], 3, axis=0)\n",
    "    P = sparse.coo_matrix(\n",
    "        (d.ravel(), (I.ravel(), J.ravel()))\n",
    "        ).tocsr()\n",
    "    return 0.5 * P"
   ]
  },
  {
   "cell_type": "code",
   "execution_count": 34,
   "metadata": {},
   "outputs": [],
   "source": [
    "P = interpolation1d(3, 7)"
   ]
  },
  {
   "cell_type": "code",
   "execution_count": 40,
   "metadata": {},
   "outputs": [
    {
     "name": "stdout",
     "output_type": "stream",
     "text": [
      "\\left[\\begin{array}{rrr}\n",
      "0.5 &   &   \\\\\n",
      "1 &   &   \\\\\n",
      "0.5 & 0.5 &   \\\\\n",
      "  & 1 &   \\\\\n",
      "  & 0.5 & 0.5 \\\\\n",
      "  &   & 1 \\\\\n",
      "  &   & 0.5\n",
      "\\end{array}\\right]\n"
     ]
    }
   ],
   "source": [
    "totex(P)"
   ]
  },
  {
   "cell_type": "code",
   "execution_count": 41,
   "metadata": {},
   "outputs": [
    {
     "name": "stdout",
     "output_type": "stream",
     "text": [
      "\\left[\\begin{array}{rrrrrrr}\n",
      "0.5 & 1 & 0.5 &   &   &   &   \\\\\n",
      "  &   & 0.5 & 1 & 0.5 &   &   \\\\\n",
      "  &   &   &   & 0.5 & 1 & 0.5\n",
      "\\end{array}\\right]\n"
     ]
    }
   ],
   "source": [
    "totex(P.T)"
   ]
  },
  {
   "cell_type": "code",
   "execution_count": 37,
   "metadata": {},
   "outputs": [],
   "source": [
    "P2D = sparse.kron(P, P).tocsr().toarray()"
   ]
  },
  {
   "cell_type": "code",
   "execution_count": 39,
   "metadata": {},
   "outputs": [
    {
     "name": "stdout",
     "output_type": "stream",
     "text": [
      "\\left[\\begin{array}{rrrrrrrrr}\n",
      "1 &   &   &   &   &   &   &   &   \\\\\n",
      "2 &   &   &   &   &   &   &   &   \\\\\n",
      "1 & 1 &   &   &   &   &   &   &   \\\\\n",
      "  & 2 &   &   &   &   &   &   &   \\\\\n",
      "  & 1 & 1 &   &   &   &   &   &   \\\\\n",
      "  &   & 2 &   &   &   &   &   &   \\\\\n",
      "  &   & 1 &   &   &   &   &   &   \\\\\n",
      "2 &   &   &   &   &   &   &   &   \\\\\n",
      "4 &   &   &   &   &   &   &   &   \\\\\n",
      "2 & 2 &   &   &   &   &   &   &   \\\\\n",
      "  & 4 &   &   &   &   &   &   &   \\\\\n",
      "  & 2 & 2 &   &   &   &   &   &   \\\\\n",
      "  &   & 4 &   &   &   &   &   &   \\\\\n",
      "  &   & 2 &   &   &   &   &   &   \\\\\n",
      "1 &   &   & 1 &   &   &   &   &   \\\\\n",
      "2 &   &   & 2 &   &   &   &   &   \\\\\n",
      "1 & 1 &   & 1 & 1 &   &   &   &   \\\\\n",
      "  & 2 &   &   & 2 &   &   &   &   \\\\\n",
      "  & 1 & 1 &   & 1 & 1 &   &   &   \\\\\n",
      "  &   & 2 &   &   & 2 &   &   &   \\\\\n",
      "  &   & 1 &   &   & 1 &   &   &   \\\\\n",
      "  &   &   & 2 &   &   &   &   &   \\\\\n",
      "  &   &   & 4 &   &   &   &   &   \\\\\n",
      "  &   &   & 2 & 2 &   &   &   &   \\\\\n",
      "  &   &   &   & 4 &   &   &   &   \\\\\n",
      "  &   &   &   & 2 & 2 &   &   &   \\\\\n",
      "  &   &   &   &   & 4 &   &   &   \\\\\n",
      "  &   &   &   &   & 2 &   &   &   \\\\\n",
      "  &   &   & 1 &   &   & 1 &   &   \\\\\n",
      "  &   &   & 2 &   &   & 2 &   &   \\\\\n",
      "  &   &   & 1 & 1 &   & 1 & 1 &   \\\\\n",
      "  &   &   &   & 2 &   &   & 2 &   \\\\\n",
      "  &   &   &   & 1 & 1 &   & 1 & 1 \\\\\n",
      "  &   &   &   &   & 2 &   &   & 2 \\\\\n",
      "  &   &   &   &   & 1 &   &   & 1 \\\\\n",
      "  &   &   &   &   &   & 2 &   &   \\\\\n",
      "  &   &   &   &   &   & 4 &   &   \\\\\n",
      "  &   &   &   &   &   & 2 & 2 &   \\\\\n",
      "  &   &   &   &   &   &   & 4 &   \\\\\n",
      "  &   &   &   &   &   &   & 2 & 2 \\\\\n",
      "  &   &   &   &   &   &   &   & 4 \\\\\n",
      "  &   &   &   &   &   &   &   & 2 \\\\\n",
      "  &   &   &   &   &   & 1 &   &   \\\\\n",
      "  &   &   &   &   &   & 2 &   &   \\\\\n",
      "  &   &   &   &   &   & 1 & 1 &   \\\\\n",
      "  &   &   &   &   &   &   & 2 &   \\\\\n",
      "  &   &   &   &   &   &   & 1 & 1 \\\\\n",
      "  &   &   &   &   &   &   &   & 2 \\\\\n",
      "  &   &   &   &   &   &   &   & 1\n",
      "\\end{array}\\right]\n"
     ]
    }
   ],
   "source": [
    "totex(4*P2D)"
   ]
  },
  {
   "cell_type": "code",
   "execution_count": null,
   "metadata": {},
   "outputs": [],
   "source": []
  }
 ],
 "metadata": {
  "kernelspec": {
   "display_name": "Python 3",
   "language": "python",
   "name": "python3"
  },
  "language_info": {
   "codemirror_mode": {
    "name": "ipython",
    "version": 3
   },
   "file_extension": ".py",
   "mimetype": "text/x-python",
   "name": "python",
   "nbconvert_exporter": "python",
   "pygments_lexer": "ipython3",
   "version": "3.7.7"
  }
 },
 "nbformat": 4,
 "nbformat_minor": 2
}
